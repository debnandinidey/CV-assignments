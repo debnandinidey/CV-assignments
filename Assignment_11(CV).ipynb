{
 "cells": [
  {
   "cell_type": "markdown",
   "id": "9a732f4d",
   "metadata": {},
   "source": [
    "#### 1. What do REGION PROPOSALS entail?\n",
    "Ans: Region proposals, in the context of computer vision and object detection, refer to a technique used to identify potential regions of interest within an image that may contain objects or regions that are worth further examination. The goal of region proposal algorithms is to reduce the computational burden of exhaustive object scanning in large images.\n",
    "\n",
    "In object detection tasks, such as detecting objects in an image or performing instance segmentation, the first step is to identify potential regions or bounding boxes that are likely to contain objects. These regions are known as region proposals. By generating region proposals, the subsequent processing can focus on these specific regions, rather than considering every possible location in the image."
   ]
  },
  {
   "cell_type": "markdown",
   "id": "d91e5e28",
   "metadata": {},
   "source": [
    "#### 2.What do you mean by NON-MAXIMUM SUPPRESSION? (NMS)\n",
    "Ans: Non-maximum suppression (NMS) is a post-processing algorithm commonly used in computer vision tasks, particularly in object detection, to eliminate redundant or overlapping bounding box proposals. The purpose of NMS is to select the most suitable bounding boxes that accurately represent the objects in an image while removing duplicate or redundant detections.\n",
    "After an object detection model generates multiple bounding box proposals for potential objects in an image."
   ]
  },
  {
   "cell_type": "markdown",
   "id": "709c3165",
   "metadata": {},
   "source": [
    "#### 3. What exactly is mAP?\n",
    "Ans: mAP stands for mean Average Precision. It is a commonly used evaluation metric for object detection and instance segmentation tasks in computer vision. mAP provides a comprehensive measure of the accuracy and performance of an object detection model.\n",
    "\n",
    "To understand mAP, let's break it down into its components:\n",
    "\n",
    "Average Precision (AP): AP measures the precision-recall trade-off of a model for a specific class. It is computed by plotting the precision-recall curve for a given class, which represents the model's performance at different confidence thresholds. AP is then calculated as the area under this precision-recall curve.\n",
    "\n",
    "Mean Average Precision (mAP): mAP is the average of AP values across multiple classes. In object detection tasks, there are usually multiple object classes of interest (e.g., person, car, dog), and mAP provides an overall performance measure by considering the AP for each class. The AP values for different classes are averaged to compute mAP."
   ]
  },
  {
   "cell_type": "markdown",
   "id": "533f61a7",
   "metadata": {},
   "source": [
    "#### 4. What is a frames per second (FPS)?\n",
    "Ans: \n",
    "Frames per second (FPS) is a metric used to measure the rate at which consecutive images or frames are displayed or processed in a video or animation sequence. It quantifies the smoothness and fluidity of motion in visual content.\n",
    "\n",
    "In the context of video playback, FPS refers to the number of frames displayed or rendered per second. It indicates how many individual images are shown within a one-second time interval. Higher FPS values result in smoother motion and more lifelike visual experiences.\n",
    "\n",
    "For example, a video with a frame rate of 30 FPS displays 30 individual frames per second, while a video with a frame rate of 60 FPS shows 60 frames per second. The higher the FPS, the more details and smoother the motion will appear."
   ]
  },
  {
   "cell_type": "markdown",
   "id": "e7e682a4",
   "metadata": {},
   "source": [
    "#### 5. What is an IOU (INTERSECTION OVER UNION)?\n",
    "Ans: Intersection over Union (IoU) is a commonly used evaluation metric in object detection, object tracking, and instance segmentation tasks in computer vision. IoU measures the spatial overlap between two bounding boxes or regions of interest and is particularly useful for assessing the accuracy of object localization.\n",
    "\n"
   ]
  },
  {
   "cell_type": "markdown",
   "id": "cf76396b",
   "metadata": {},
   "source": [
    "#### 6. Describe the PRECISION-RECALL CURVE (PR CURVE)\n",
    "Ans:\n",
    "    The Precision-Recall Curve (PR curve) is a graphical representation that illustrates the trade-off between precision and recall for a binary classification model, particularly in tasks where class imbalance exists or where the focus is on positive instances. \n",
    "    \n",
    "    To understand the PR curve - \n",
    "    Precision = True Positives / (True Positives + False Positives)\n",
    "    Recall = True Positives / (True Positives + False Negatives)"
   ]
  },
  {
   "cell_type": "markdown",
   "id": "650caf96",
   "metadata": {},
   "source": [
    "#### 7. What is the term \"selective search\"?\n",
    "Ans: \"Selective search\" refers to a popular algorithmic approach used for generating region proposals in object detection and image segmentation tasks. It aims to efficiently identify potential regions of interest within an image that may contain objects or regions worth further examination.\n",
    "\n",
    "The selective search algorithm operates based on the intuition that objects within an image often exhibit similarity in color, texture, or other low-level features. It leverages this observation to group pixels or image regions into larger segments that likely correspond to objects.\n",
    "\n",
    "The key steps involved in the selective search algorithm are as follows: Initial Over-Segmentation, Region Similarity, Region Merging, Iterative Refinement. "
   ]
  },
  {
   "cell_type": "markdown",
   "id": "fc575f34",
   "metadata": {},
   "source": [
    "#### 8. Describe the R-CNN model's four components.\n",
    "Ans: \n",
    "The R-CNN (Region-based Convolutional Neural Network) model consists of four main components that work together to perform object detection. These components are:\n",
    "\n",
    "Region Proposal: The first component of the R-CNN model is responsible for generating region proposals or candidate bounding boxes that potentially contain objects. In the original R-CNN model, the selective search algorithm is used to generate these region proposals. \n",
    "\n",
    "Feature Extraction: Once the region proposals are generated, the next step is to extract features from these regions. Each region proposal is resized to a fixed size and passed through a convolutional neural network (CNN), typically pre-trained on a large dataset such as ImageNet. \n",
    "\n",
    "Object Classification: The feature vectors obtained from the region proposals are then fed into a set of fully connected layers. These layers perform object classification by mapping the features to different object classes.\n",
    "\n",
    "Bounding Box Regression: In addition to object classification, the R-CNN model also performs bounding box regression to refine the coordinates of the region proposals. The model predicts adjustments to the coordinates of the initial region proposals to more accurately localize the objects."
   ]
  },
  {
   "cell_type": "markdown",
   "id": "01f08d31",
   "metadata": {},
   "source": [
    "#### 9. What exactly is the Localization Module?\n",
    "Ans:\n",
    "    In the context of object detection models, the term \"Localization Module\" refers to a specific component or mechanism within the model that is responsible for predicting the precise location or bounding box coordinates of objects within an image. The specific design and architecture of the Localization Module can vary depending on the object detection model. However, the module typically consists of one or more layers or sub-networks that process the extracted features and predict the bounding box coordinates."
   ]
  },
  {
   "cell_type": "markdown",
   "id": "6a2cb1db",
   "metadata": {},
   "source": [
    "#### 10. What are the R-CNN DISADVANTAGES?\n",
    "Ans: While R-CNN (Region-based Convolutional Neural Network) models have been influential in advancing object detection, they do have some disadvantages Like- Computational Cost: R-CNN is computationally expensive during both training and inference. Since each region proposal is processed independently through a CNN, it leads to redundant computations for overlapping regions. This makes the model slower and less suitable for real-time applications.\n",
    "\n",
    "Inflexibility: R-CNN's multi-stage architecture makes it less flexible for end-to-end training. The model consists of separate components for region proposal, feature extraction, object classification, and bounding box regression, which require multiple training stages and complex pipelines. This makes it challenging to optimize the model as a whole and limits its adaptability to different tasks.\n",
    "\n",
    "Training Complexity: R-CNN requires a two-step training process. Initially, the CNN is pre-trained on a large dataset (e.g., ImageNet) for feature extraction, and then the object classification and bounding box regression components are fine-tuned using a labeled dataset specific to the object detection task. T\n",
    "\n",
    "Lack of Localization Accuracy: While R-CNN achieves good object detection performance, its localization accuracy may not be optimal. The use of fixed-sized region proposals and separate bounding box regression can result in imprecise localization.\n",
    "\n",
    "Limited Spatial Resolution: R-CNN relies on the selective search algorithm to generate region proposals, which can lead to regions of varying sizes. Resizing these regions to a fixed size may result in a loss of spatial resolution, leading to suboptimal object representation and localization.\n",
    "\n"
   ]
  },
  {
   "cell_type": "code",
   "execution_count": null,
   "id": "b77f0b4c",
   "metadata": {},
   "outputs": [],
   "source": []
  }
 ],
 "metadata": {
  "kernelspec": {
   "display_name": "Python 3 (ipykernel)",
   "language": "python",
   "name": "python3"
  },
  "language_info": {
   "codemirror_mode": {
    "name": "ipython",
    "version": 3
   },
   "file_extension": ".py",
   "mimetype": "text/x-python",
   "name": "python",
   "nbconvert_exporter": "python",
   "pygments_lexer": "ipython3",
   "version": "3.10.9"
  }
 },
 "nbformat": 4,
 "nbformat_minor": 5
}
