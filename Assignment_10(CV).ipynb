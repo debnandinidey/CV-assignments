{
 "cells": [
  {
   "cell_type": "markdown",
   "id": "0a84f908",
   "metadata": {},
   "source": [
    "#### 1.Why don't we start all of the weights with zeros?\n",
    "Ans:\n",
    "Starting all the weights with zeros in a neural network is not recommended because it leads to several issues during the learning process. Here are a few reasons why initializing all weights to zero is problematic:\n",
    "\n",
    "Symmetry breaking\n",
    "Weight update symmetry\n",
    "Vanishing gradients\n"
   ]
  },
  {
   "cell_type": "markdown",
   "id": "8e766899",
   "metadata": {},
   "source": [
    "#### 2. Why is it beneficial to start weights with a mean zero distribution?\n",
    "Ans:\n",
    "    Starting weights with a mean-zero distribution, such as a Gaussian distribution with zero mean, is a common practice in neural network initialization. Here are a few reasons why it is beneficial:\n",
    "        Randomness and symmetry breaking, Avoiding saturation and exploding gradients, Gradient flow and learning efficiency, Compatibility with activation functions"
   ]
  },
  {
   "cell_type": "markdown",
   "id": "d622a1ed",
   "metadata": {},
   "source": [
    "#### 3. What is dilated convolution, and how does it work?\n",
    "Ans: Dilated convolution, also known as atrous convolution, is a modification of the traditional convolution operation used in convolutional neural networks (CNNs). It introduces a dilation factor to the convolutional kernel, which effectively increases the receptive field of the convolutional layer without increasing the number of parameters.\n",
    "The key idea behind dilated convolution is to increase the receptive field while maintaining a relatively smaller number of parameters. By dilating the convolutional kernel, the network can gather information from a larger area without increasing the kernel size or adding more parameters. This can be beneficial in various scenarios: Increased context, Parameter efficiency, Multi-scale analysis"
   ]
  },
  {
   "cell_type": "markdown",
   "id": "52d68416",
   "metadata": {},
   "source": [
    "#### 4. What is TRANSPOSED CONVOLUTION, and how does it work?\n",
    "Ans:\n",
    "    Transposed convolution, also known as deconvolution or fractionally-strided convolution, is an operation commonly used in convolutional neural networks (CNNs) for upsampling or increasing the spatial resolution of feature maps. It is the inverse operation of standard convolution and allows the network to learn to upsample feature maps. Here's a simplified step-by-step explanation of how transposed convolution works: Padding, Upsampling, onvolution, Output feature map"
   ]
  },
  {
   "cell_type": "markdown",
   "id": "fc81ec03",
   "metadata": {},
   "source": [
    "#### 5.Explain Separable convolution?\n",
    "Ans:\n",
    "    Separable convolution is a technique used in convolutional neural networks (CNNs) to reduce the computational complexity and number of parameters in convolutional layers while maintaining effective feature representation. It achieves this by decomposing a standard convolution into two or more separate convolutional operations: depthwise convolution and pointwise convolution.Here's an explanation of how separable convolution works:- Depthwise Convolution, Pointwise Convolution, "
   ]
  },
  {
   "cell_type": "markdown",
   "id": "47e3750d",
   "metadata": {},
   "source": [
    "#### 6.What is depthwise convolution, and how does it work?\n",
    "Ans:\n",
    "    Depthwise convolution is a type of convolutional operation commonly used in convolutional neural networks (CNNs) that applies a separate convolutional filter to each input channel independently. It is a key component of separable convolution, which decomposes standard convolution into depthwise convolution and pointwise convolution.\n",
    "\n",
    "Here's an explanation of how depthwise convolution works:Input Channels, Depthwise Filtering, Sliding Window Operation, Output Feature Map"
   ]
  },
  {
   "cell_type": "markdown",
   "id": "3d6ae199",
   "metadata": {},
   "source": [
    "#### 7.What is Depthwise separable convolution, and how does it work?\n",
    "Ans:\n",
    "    Depthwise separable convolution is a technique used in convolutional neural networks (CNNs) to reduce computational complexity and improve efficiency while maintaining effective feature representation. It is a combination of depthwise convolution and pointwise convolution, and it forms the core operation in architectures like MobileNet and EfficientNet.\n",
    "\n",
    "Here's an explanation of how depthwise separable convolution works: Depthwise Convolution, Pointwise Convolution, Output Feature Map"
   ]
  },
  {
   "cell_type": "markdown",
   "id": "c4f96d75",
   "metadata": {},
   "source": [
    "#### 8.Capsule networks are what they sound like.\n",
    "Ans:\n",
    "    Capsule networks, also known as CapsNets, are a type of neural network architecture introduced by Geoffrey Hinton and his colleagues in 2017. Capsule networks aim to overcome some limitations of traditional convolutional neural networks (CNNs) by using \"capsules,\" which are groups of neurons that represent specific entities or concepts.\n",
    "\n",
    "The name \"capsule\" comes from the idea that these groups of neurons encapsulate the properties and attributes of a particular entity. In contrast to traditional CNNs that use scalar outputs (activations) from neurons, capsule networks use vector outputs called \"capsule activations.\" These capsule activations encode various properties, such as the presence, pose, and instantiation parameters of a specific entity."
   ]
  },
  {
   "cell_type": "markdown",
   "id": "f98104fd",
   "metadata": {},
   "source": [
    "#### 9. Why is POOLING such an important operation in CNNs?\n",
    "Ans:\n",
    "    \n",
    "Pooling is an essential operation in convolutional neural networks (CNNs) because it serves multiple important purposes that contribute to the overall effectiveness of the network. Here are several reasons why pooling is crucial in CNNs:Dimensionality Reduction, Translation Invariance, Extracting Salient Features, Increased Robustness to Noise, Spatial Invariance. "
   ]
  },
  {
   "cell_type": "markdown",
   "id": "48677679",
   "metadata": {},
   "source": [
    "#### 10. What are receptive fields and how do they work?\n",
    "Ans:\n",
    "    Receptive fields refer to the local regions of an input space that a neuron or a group of neurons in a neural network is sensitive to. In the context of convolutional neural networks (CNNs), receptive fields determine the spatial extent over which a neuron in a particular layer of the network can \"see\" and gather information. Here's how receptive fields works: Local Receptive Fields, Convolutional Operation: During the forward pass of the network, the local receptive field is convolved with a learnab, Hierarchical Structure, Feature Hierarchy. "
   ]
  },
  {
   "cell_type": "code",
   "execution_count": null,
   "id": "41dbac3d",
   "metadata": {},
   "outputs": [],
   "source": []
  }
 ],
 "metadata": {
  "kernelspec": {
   "display_name": "Python 3 (ipykernel)",
   "language": "python",
   "name": "python3"
  },
  "language_info": {
   "codemirror_mode": {
    "name": "ipython",
    "version": 3
   },
   "file_extension": ".py",
   "mimetype": "text/x-python",
   "name": "python",
   "nbconvert_exporter": "python",
   "pygments_lexer": "ipython3",
   "version": "3.10.9"
  }
 },
 "nbformat": 4,
 "nbformat_minor": 5
}
